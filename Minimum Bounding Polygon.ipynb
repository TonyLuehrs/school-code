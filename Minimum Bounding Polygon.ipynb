{
 "cells": [
  {
   "cell_type": "markdown",
   "metadata": {},
   "source": [
    "# Approximating the Area of a Minimum Bounding Polygon"
   ]
  },
  {
   "cell_type": "markdown",
   "metadata": {},
   "source": [
    "Let $S$ be a collection of $n$ points in $R^2$ contained by the square space $[0, a] \\times [0, a]$. \n",
    "\n",
    "1. Identify the subset $B \\subseteq S$ that represent the vertices of the smallest possible convex polygon that contains the remaining points (if any) in $S-B$.\n",
    "\n",
    "2. Given an additional point $(x, y)$ within $[0, a] \\times [0, a]$, determine if this point is contained within the polygon or not.\n",
    "\n",
    "3. Approximate the area of the minimum bounding polygon. (Note: there are many ways to find this area exactly using geometric/trigonometric formulas, such as Herron's formula - we're interested in determining a way in which me might *approximate* the area)\n",
    "\n",
    "For our example, we'll consider a set of $n=10$ points contained within $[0, 10] \\times [0, 10]$. We'll also only randomly select points with integer coordinates for simplicity."
   ]
  },
  {
   "cell_type": "code",
   "execution_count": 1,
   "metadata": {},
   "outputs": [],
   "source": [
    "import matplotlib.pyplot as plt\n",
    "import numpy as np"
   ]
  },
  {
   "cell_type": "markdown",
   "metadata": {},
   "source": [
    "### Creating the Points"
   ]
  },
  {
   "cell_type": "code",
   "execution_count": 2,
   "metadata": {},
   "outputs": [],
   "source": [
    "n = 10     # number of points in the plane\n",
    "a = 10    # side length of boundary square [0, a] x [0, a]"
   ]
  },
  {
   "cell_type": "code",
   "execution_count": 3,
   "metadata": {},
   "outputs": [],
   "source": [
    "X = np.random.randint(0, a, size=n)\n",
    "Y = np.random.randint(0, a, size=n)\n",
    "S = list(zip(X, Y))"
   ]
  },
  {
   "cell_type": "code",
   "execution_count": 4,
   "metadata": {},
   "outputs": [
    {
     "data": {
      "image/png": "[encoded data removed]",
      "text/plain": [
       "<Figure size 432x288 with 1 Axes>"
      ]
     },
     "metadata": {
      "needs_background": "light"
     },
     "output_type": "display_data"
    }
   ],
   "source": [
    "# plot points\n",
    "for pt in S:\n",
    "    plt.plot(pt[0], pt[1], 'bo')\n",
    "\n",
    "plt.grid(True)\n",
    "plt.xlim(-1, a+1)\n",
    "plt.ylim(-1, a+1)\n",
    "\n",
    "plt.show()"
   ]
  },
  {
   "cell_type": "markdown",
   "metadata": {},
   "source": [
    "## Part 1 - Locating the vertices of the bounding polygon"
   ]
  },
  {
   "cell_type": "markdown",
   "metadata": {},
   "source": [
    "### How to Locate the Vertices\n",
    "\n",
    "All points that have a max or min x or y coordinate are guaranteed to be vertices. Therefore, the top, bottom, leftmost, or rightmost points are guaranteed to be vertices and can be used as a starting spot. (And if there is ever a tie for top/bottom/leftmost/rightmost, then all members of the tie are guaranteed to be vertices.)\n",
    "\n",
    "Let's start by identifying the \"bottom\" vertex of our polygon, then rotating in a counterclockwise direction.  If there are multiple \"bottom\" vertices with the same minimal $y$ value, we want to select the one with the largest $x$ value since we'll be searching in a CCW direction. \n",
    "\n",
    "To find the next sequential vertex point, imagine a ray from the current vertex at an angle of $ 0^{\\circ}$. We'll want the angle of this ray to increase until it hits a point - this point will be the next vertex. To do this, begin with an initial angle of $0^{\\circ}$ and compute the angles between the currently vertex and all other points. The one with the next largest angle relative to the previously traveled angle will be the next vertex. Repeat this until the original starting vertex is chosen as the next vertex.\n"
   ]
  },
  {
   "cell_type": "markdown",
   "metadata": {},
   "source": [
    "### Setup"
   ]
  },
  {
   "cell_type": "code",
   "execution_count": 5,
   "metadata": {},
   "outputs": [],
   "source": [
    "thetaList = []\n",
    "vertices = []\n",
    "\n",
    "# find all bottom-row points, select the one with the largest x val\n",
    "bottomPoints = [s for s in S if s[1] == min(Y)]\n",
    "currVert = max(bottomPoints, key=lambda s: s[0])\n",
    "\n",
    "# start out sweeping search at an angle of 0deg from first vertex\n",
    "theta = 0\n",
    "\n",
    "thetaList.append(theta)\n",
    "vertices.append(currVert)\n",
    "\n",
    "# don't modify S, keep list of original points available\n",
    "# leave starting vert in available points so it can be found\n",
    "#  a second time to end the search. all other found verts will\n",
    "#  be removed from available points as they're found.\n",
    "points = S[:]"
   ]
  },
  {
   "cell_type": "markdown",
   "metadata": {},
   "source": [
    "### Finding the Vertices"
   ]
  },
  {
   "cell_type": "code",
   "execution_count": 6,
   "metadata": {},
   "outputs": [
    {
     "name": "stdout",
     "output_type": "stream",
     "text": [
      "Vertices of the polygon, in order:\n"
     ]
    },
    {
     "data": {
      "text/plain": [
       "[(6, 1), (9, 9), (0, 9), (4, 3), (5, 2), (6, 1)]"
      ]
     },
     "execution_count": 6,
     "metadata": {},
     "output_type": "execute_result"
    }
   ],
   "source": [
    "# when our \"next\" vertex is actually the original first vertex, we're done\n",
    "while vertices[0] != vertices[-1] or len(vertices) == 1:\n",
    "    \n",
    "    # find angles to all points; build list anglePts = [(angle, (x, y)), ...]\n",
    "    cx, cy = currVert\n",
    "    anglePts = []\n",
    "    for pt in points:\n",
    "        px, py = pt\n",
    "        if pt != (cx, cy):\n",
    "            ang = np.arctan2(py-cy, px-cx)*180/np.pi\n",
    "            if ang <= 0:\n",
    "                ang += 360\n",
    "            anglePts.append((ang, pt))\n",
    "    \n",
    "    # sort the angles list so the smallest angle is first\n",
    "    anglePts.sort()\n",
    "    \n",
    "    # we want the angle that has the *next* largest angle relative to the previous angle\n",
    "    possAngs = [ap for ap in anglePts if ap[0] >= theta]\n",
    "    nextAng = possAngs[0]\n",
    "    theta, currVert = nextAng\n",
    "    \n",
    "    # include the new point in the vertex list, remove it from possible-to-select points\n",
    "    thetaList.append(theta)\n",
    "    vertices.append(currVert)\n",
    "    points.remove(currVert)\n",
    " \n",
    "print('Vertices of the polygon, in order:')\n",
    "vertices"
   ]
  },
  {
   "cell_type": "markdown",
   "metadata": {},
   "source": [
    "### Graphing the Polygon"
   ]
  },
  {
   "cell_type": "code",
   "execution_count": 7,
   "metadata": {},
   "outputs": [
    {
     "data": {
      "image/png": "[encoded data removed]",
      "text/plain": [
       "<Figure size 432x288 with 1 Axes>"
      ]
     },
     "metadata": {
      "needs_background": "light"
     },
     "output_type": "display_data"
    }
   ],
   "source": [
    "# plot points\n",
    "for pt in S:\n",
    "    plt.plot(pt[0], pt[1], 'bo')\n",
    "    \n",
    "# plot edges\n",
    "for i in range(len(vertices)-1):\n",
    "    (x0, y0), (x1, y1) = vertices[i], vertices[i+1]\n",
    "    plt.plot([x0, x1], [y0, y1], 'k--')\n",
    "    \n",
    "plt.grid(True)\n",
    "plt.xlim(-1, a+1)\n",
    "plt.ylim(-1, a+1)\n",
    "\n",
    "plt.show()"
   ]
  },
  {
   "cell_type": "markdown",
   "metadata": {},
   "source": [
    "## Part 2 - Identify whether an arbitrary point is contained within the polygon"
   ]
  },
  {
   "cell_type": "markdown",
   "metadata": {},
   "source": [
    "### How to determine containment\n",
    "\n",
    "Any point that is *not* contained within the polygon is able to \"view\" the entire polygon within a $180^\\circ$ span.  We can find the angle from the point to all vertices of the polygon; if the span is less than $180^\\circ$, the point is not contained.\n",
    "\n",
    "Note that we'll get some issues wrapping around from $359^{\\circ}$ to $0^{\\circ}$.  "
   ]
  },
  {
   "cell_type": "markdown",
   "metadata": {},
   "source": [
    "### Creating test points\n",
    "Our test points will be random uniform points rather than integers"
   ]
  },
  {
   "cell_type": "code",
   "execution_count": 8,
   "metadata": {},
   "outputs": [],
   "source": [
    "m = 2000   # number of test points for inside/outside\n",
    "testX = np.random.rand(m)*a\n",
    "testY = np.random.rand(m)*a\n",
    "testS = list(zip(X, Y))"
   ]
  },
  {
   "cell_type": "markdown",
   "metadata": {},
   "source": [
    "### Identifying which points are contained"
   ]
  },
  {
   "cell_type": "code",
   "execution_count": 9,
   "metadata": {},
   "outputs": [],
   "source": [
    "# each test point (tx, ty) will be sorted into the list of points \"in\" or \"out\" of the polygon\n",
    "ins = []\n",
    "outs = []\n",
    "\n",
    "for i in range(m):\n",
    "    \n",
    "    tx, ty = testX[i], testY[i]\n",
    "    \n",
    "    # If test point is actually a vertex, skip it (not classified as in or out)\n",
    "    if (tx, ty) in vertices:\n",
    "        continue\n",
    "    \n",
    "    # Find angles from test point to all vertices\n",
    "    angles = []\n",
    "    for vt in vertices:\n",
    "        vx, vy = vt\n",
    "        ang = np.arctan2(vy-ty, vx-tx)*180/np.pi\n",
    "        if ang <= 0:\n",
    "            ang += 360\n",
    "        angles.append(ang)\n",
    "            \n",
    "    # Because our polygon is convex, there can never be more than 180deg diff between two vertices\n",
    "    # Therefore, we find the appropriate coterminal angle that IS within -180 < theta < 180 when we\n",
    "    #  take our differences\n",
    "    angleDiffs = []\n",
    "    for i in range(len(angles)-1):\n",
    "        diff = angles[i+1] - angles[i]\n",
    "        if diff < -180:\n",
    "             diff += 360\n",
    "        elif diff > 180:\n",
    "            diff -= 360\n",
    "        angleDiffs.append(diff)\n",
    "        \n",
    "    # Now, consider yourself standing at the given test point, and your goal is to look at every vertex in order\n",
    "    # If you are inside the polygon, you'll need to turn a full 360 degrees to see every vertex in order\n",
    "    # If you are outside the polygon, you'll do some pos, some neg turning, for a net turn of 0 deg\n",
    "    \n",
    "    totalTurn = round(sum(angleDiffs))\n",
    "    if totalTurn == 360:\n",
    "        ins.append((tx, ty))\n",
    "    else:\n",
    "        outs.append((tx, ty))\n",
    "        \n",
    "        "
   ]
  },
  {
   "cell_type": "markdown",
   "metadata": {},
   "source": [
    "### Plotting everything"
   ]
  },
  {
   "cell_type": "code",
   "execution_count": 10,
   "metadata": {},
   "outputs": [
    {
     "data": {
      "image/png": "[encoded data removed]",
      "text/plain": [
       "<Figure size 432x288 with 1 Axes>"
      ]
     },
     "metadata": {
      "needs_background": "light"
     },
     "output_type": "display_data"
    }
   ],
   "source": [
    "# plot original points\n",
    "for pt in S:\n",
    "    plt.plot(pt[0], pt[1], 'bo')\n",
    "    \n",
    "# plot edges between vertices\n",
    "for i in range(len(vertices)-1):\n",
    "    (x0, y0), (x1, y1) = vertices[i], vertices[i+1]\n",
    "    plt.plot([x0, x1], [y0, y1], 'k--')\n",
    "    \n",
    "# plot test points\n",
    "for pt in ins:\n",
    "    plt.plot(pt[0], pt[1], 'go', markersize = 1)\n",
    "for pt in outs:\n",
    "    plt.plot(pt[0], pt[1], 'ro', markersize = 1)\n",
    "    \n",
    "plt.grid(True)\n",
    "plt.xlim(-.1*a, 1.1*a)\n",
    "plt.ylim(-.1*a, 1.1*a)\n",
    "\n",
    "plt.show()"
   ]
  },
  {
   "cell_type": "markdown",
   "metadata": {},
   "source": [
    "## Part 3 - Approximate the area of the polynomial\n",
    "\n",
    "Now that we can determine if an arbitrary point is contained within the polygon, we can estimate the area of the polynomial.  To do this, note that the proportion of the area that the polygon takes up out of the original $ a \\times a $ square should be equal to the proportion of points that fell inside of the polygon.\n",
    "\n",
    "So, let's divide the \"ins\" count by the total number of points (the proportion of points inside), and multiply that proportion by the total area, to arrive at an area estimate for the polygon."
   ]
  },
  {
   "cell_type": "code",
   "execution_count": 11,
   "metadata": {},
   "outputs": [
    {
     "name": "stdout",
     "output_type": "stream",
     "text": [
      "Number of Test Points:\t2000\n",
      "Number Contained:\t754\n",
      "Proportion contained:\t0.377\n",
      "\n",
      "Total Available Area:\t100\n",
      "Polygon Area Estimate:\t37.7\n"
     ]
    }
   ],
   "source": [
    "totalArea = a**2\n",
    "inCount = len(ins)\n",
    "proportionContained = inCount/m\n",
    "polygonArea = proportionContained*totalArea\n",
    "\n",
    "print(f'Number of Test Points:\\t{m}')\n",
    "print(f'Number Contained:\\t{inCount}')\n",
    "print(f'Proportion contained:\\t{proportionContained}')\n",
    "print()\n",
    "print(f'Total Available Area:\\t{totalArea}')\n",
    "print(f'Polygon Area Estimate:\\t{polygonArea}')"
   ]
  },
  {
   "cell_type": "markdown",
   "metadata": {},
   "source": [
    "### Okay! Let's summarize this all within a single function so we can check out lots of cases more quickly"
   ]
  },
  {
   "cell_type": "code",
   "execution_count": 12,
   "metadata": {},
   "outputs": [],
   "source": [
    "def min_bounding_polygon(n=10, m=1000, a=10):\n",
    "    \n",
    "    ##########\n",
    "    # This function takes in:\n",
    "    #   n: number of initial points from which vertices will be found\n",
    "    #   m: number of test points to use in area approximation\n",
    "    #   a: side length of bounding square [0, a] x [0, a]\n",
    "    #\n",
    "    # This function's primary purpose is to print output and display a graph,\n",
    "    #  but it also returns:\n",
    "    #   vertices: list of (x, y) ordered pairs of vertex locations, in order\n",
    "    #   ins: list of (x, y) points determined to be within the polygon\n",
    "    #   outs: list of (x, y) points determined to be outside the polygon\n",
    "    #   polygonArea: estimate of the area of the minimum bounding polygon\n",
    "    ##########\n",
    "    \n",
    "    # setup \"actual\" points and some lists\n",
    "    X = np.random.randint(0, a, size=n)\n",
    "    Y = np.random.randint(0, a, size=n)\n",
    "    S = list(zip(X, Y))\n",
    "    thetaList = []\n",
    "    vertices = []\n",
    "    bottomPoints = [s for s in S if s[1] == min(Y)]\n",
    "    currVert = max(bottomPoints, key=lambda s: s[0])\n",
    "    theta = 0\n",
    "    thetaList.append(theta)\n",
    "    vertices.append(currVert)\n",
    "    points = S[:]\n",
    "    \n",
    "    # find vertices\n",
    "    while vertices[0] != vertices[-1] or len(vertices) == 1:\n",
    "        cx, cy = currVert\n",
    "        anglePts = []\n",
    "        for pt in points:\n",
    "            px, py = pt\n",
    "            if pt != (cx, cy):\n",
    "                ang = np.arctan2(py-cy, px-cx)*180/np.pi\n",
    "                if ang <= 0:\n",
    "                    ang += 360\n",
    "                anglePts.append((ang, pt))\n",
    "        anglePts.sort()\n",
    "        possAngs = [ap for ap in anglePts if ap[0] >= theta]\n",
    "        nextAng = possAngs[0]\n",
    "        theta, currVert = nextAng\n",
    "        thetaList.append(theta)\n",
    "        vertices.append(currVert)\n",
    "        points.remove(currVert)\n",
    "    \n",
    "    # classify test points\n",
    "    testX = np.random.rand(m)*a\n",
    "    testY = np.random.rand(m)*a\n",
    "    testS = list(zip(X, Y))\n",
    "    ins = []\n",
    "    outs = []\n",
    "    for i in range(m):\n",
    "        tx, ty = testX[i], testY[i]\n",
    "        if (tx, ty) in vertices:\n",
    "            continue\n",
    "        angles = []\n",
    "        for vt in vertices:\n",
    "            vx, vy = vt\n",
    "            ang = np.arctan2(vy-ty, vx-tx)*180/np.pi\n",
    "            if ang <= 0:\n",
    "                ang += 360\n",
    "            angles.append(ang)\n",
    "        angleDiffs = []\n",
    "        for i in range(len(angles)-1):\n",
    "            diff = angles[i+1] - angles[i]\n",
    "            if diff < -180:\n",
    "                 diff += 360\n",
    "            elif diff > 180:\n",
    "                diff -= 360\n",
    "            angleDiffs.append(diff)\n",
    "        totalTurn = round(sum(angleDiffs))\n",
    "        if totalTurn == 360:\n",
    "            ins.append((tx, ty))\n",
    "        else:\n",
    "            outs.append((tx, ty))\n",
    "            \n",
    "    # compute results, print output, create graph\n",
    "    totalArea = a**2\n",
    "    inCount = len(ins)\n",
    "    proportionContained = inCount/m\n",
    "    polygonArea = proportionContained*totalArea\n",
    "\n",
    "    print(f'Number of Test Points:\\t{m}')\n",
    "    print(f'Number Contained:\\t{inCount}')\n",
    "    print(f'Proportion contained:\\t{proportionContained}')\n",
    "    print()\n",
    "    print(f'Total Available Area:\\t{totalArea}')\n",
    "    print(f'Polygon Area Estimate:\\t{polygonArea}')\n",
    "\n",
    "    for pt in S:\n",
    "        plt.plot(pt[0], pt[1], 'bo')\n",
    "    for i in range(len(vertices)-1):\n",
    "        (x0, y0), (x1, y1) = vertices[i], vertices[i+1]\n",
    "        plt.plot([x0, x1], [y0, y1], 'k--')\n",
    "    for pt in ins:\n",
    "        plt.plot(pt[0], pt[1], 'go', markersize = 1)\n",
    "    for pt in outs:\n",
    "        plt.plot(pt[0], pt[1], 'ro', markersize = 1)\n",
    "    plt.grid(True)\n",
    "    plt.xlim(-.1*a, 1.1*a)\n",
    "    plt.ylim(-.1*a, 1.1*a)\n",
    "    plt.show()\n",
    "\n",
    "    return vertices, ins, outs, polygonArea"
   ]
  },
  {
   "cell_type": "code",
   "execution_count": 13,
   "metadata": {},
   "outputs": [
    {
     "name": "stdout",
     "output_type": "stream",
     "text": [
      "Number of Test Points:\t1500\n",
      "Number Contained:\t844\n",
      "Proportion contained:\t0.5626666666666666\n",
      "\n",
      "Total Available Area:\t62500\n",
      "Polygon Area Estimate:\t35166.666666666664\n"
     ]
    },
    {
     "data": {
      "image/png": "[encoded data removed]",
      "text/plain": [
       "<Figure size 432x288 with 1 Axes>"
      ]
     },
     "metadata": {
      "needs_background": "light"
     },
     "output_type": "display_data"
    }
   ],
   "source": [
    "verts, ins, outs, area = min_bounding_polygon(n=8, m=1500, a=250)"
   ]
  },
  {
   "cell_type": "code",
   "execution_count": null,
   "metadata": {},
   "outputs": [],
   "source": []
  }
 ],
 "metadata": {
  "kernelspec": {
   "display_name": "Python 3",
   "language": "python",
   "name": "python3"
  },
  "language_info": {
   "codemirror_mode": {
    "name": "ipython",
    "version": 3
   },
   "file_extension": ".py",
   "mimetype": "text/x-python",
   "name": "python",
   "nbconvert_exporter": "python",
   "pygments_lexer": "ipython3",
   "version": "3.8.8"
  }
 },
 "nbformat": 4,
 "nbformat_minor": 4
}
