{
 "cells": [
  {
   "cell_type": "markdown",
   "metadata": {},
   "source": [
    "# Exploring Differences Between Consecutive Primes"
   ]
  },
  {
   "cell_type": "markdown",
   "metadata": {},
   "source": [
    "#### The Task  \n",
    "List all primes in order in rows such that each row of primes has a *strictly increasing* difference between consecutive primes.\n",
    "\n",
    "#### Example  \n",
    "Begin with primes 2, 3; the difference between them is 1.  \n",
    "Our next prime is 5, and the difference between 3 and 5 is 2, which is larger than our previous difference of 1, so 5 belongs in the first row with 2 and 3.  \n",
    "Our next prime is 7, and the difference between 5 and 7 is 2, which is *equal to* our previous difference, so 7 starts a new row.  \n",
    "\n",
    "This yields the initial rows of:  \n",
    "\n",
    "2, 3, 5  \n",
    "7, 9  \n",
    "11, 13, 17\n",
    "...\n",
    "\n",
    "#### The Question\n",
    "What is the expected value of the number of primes per row?"
   ]
  },
  {
   "cell_type": "code",
   "execution_count": 1,
   "metadata": {},
   "outputs": [],
   "source": [
    "# this function checks if an integer is prime\n",
    "def isPrime(n):\n",
    "    if n <= 1:\n",
    "        return False\n",
    "    elif n == 2:\n",
    "        return True\n",
    "    else:\n",
    "        for i in range(2, int(n**.5)+1):\n",
    "            if n % i == 0:\n",
    "                return False\n",
    "    return True\n",
    "\n",
    "# this function is a generator (\"yield\") of primes\n",
    "def primeGen():\n",
    "    x = 2\n",
    "    yield x\n",
    "    while True:\n",
    "        x += 1\n",
    "        if isPrime(x):\n",
    "            yield x"
   ]
  },
  {
   "cell_type": "markdown",
   "metadata": {},
   "source": [
    "Using the above generator, produce all of the rows of primes of increasing differences.  By tracking the number of *rows* relative to the number of primes *primeCount* we sort into rows, we can experimentally approximate the expected value of the number of primes  per row."
   ]
  },
  {
   "cell_type": "code",
   "execution_count": 2,
   "metadata": {},
   "outputs": [
    {
     "name": "stdout",
     "output_type": "stream",
     "text": [
      "2 3 5 \n",
      "7 11 \n",
      "13 17 \n",
      "19 23 29 \n",
      "31 37 \n",
      "41 43 47 53 \n",
      "59 61 67 \n",
      "71 73 79 \n",
      "83 89 97 \n",
      "101 103 107 \n",
      "109 113 127 \n",
      "131 137 \n",
      "139 149 \n",
      "151 157 \n",
      "163 167 173 \n",
      "179 181 191 \n",
      "193 197 \n",
      "199 211 \n",
      "223 227 \n",
      "229 233 239 \n",
      "241 251 \n",
      "257 263 \n",
      "269 271 277 \n",
      "281 283 293 307 \n",
      "311 313 317 331 \n",
      "337 347 \n",
      "349 353 359 367 \n",
      "373 379 \n",
      "383 389 397 \n",
      "401 409 419 \n",
      "421 431 \n",
      "433 439 \n",
      "443 449 457 \n",
      "461 463 467 479 \n",
      "487 491 499 \n",
      "503 509 521 \n",
      "523 541 \n",
      "547 557 \n",
      "563 569 \n",
      "571 577 587 \n",
      "593 599 \n",
      "601 607 \n",
      "613 617 \n",
      "619 631 \n",
      "641 643 647 653 \n",
      "659 661 673 \n",
      "677 683 691 701 \n",
      "709 719 \n",
      "727 733 \n",
      "739 743 751 \n",
      "757 761 769 \n",
      "773 787 \n",
      "797 809 \n",
      "811 821 \n",
      "823 827 \n",
      "829 839 853 \n",
      "857 859 863 877 \n",
      "881 883 887 907 \n",
      "911 919 929 \n",
      "937 941 947 \n",
      "953 967 \n",
      "971 977 \n",
      "983 991 \n",
      "997 1009 \n",
      "\n",
      "170 primes over 65 rows gives an average of 2.6153846153846154\n"
     ]
    }
   ],
   "source": [
    "pg = primeGen()\n",
    "a = 1\n",
    "b = next(pg)\n",
    "primeCount = 1\n",
    "rows = 1\n",
    "\n",
    "while b < 1000:\n",
    "    a, b = b, next(pg)\n",
    "    primeCount += 1\n",
    "    delta1 = b - a\n",
    "    print(a, b, end=' ')\n",
    "    while True:\n",
    "        a, b = b, next(pg)\n",
    "        primeCount += 1\n",
    "        delta2 = b - a\n",
    "        if delta2 <= delta1:\n",
    "            rows += 1\n",
    "            print()\n",
    "            break\n",
    "        else:\n",
    "            delta1 = delta2\n",
    "            print(b, end=' ')\n",
    "            \n",
    "print()\n",
    "print(f'{primeCount} primes over {rows} rows gives an average of {(primeCount/rows)}')"
   ]
  },
  {
   "cell_type": "markdown",
   "metadata": {},
   "source": [
    "This should be true in general for random unique ordered lists.\n",
    "\n",
    "Given an arbitrary increasing list of integers:  \n",
    "\n",
    "The probability that 1 integer can be in a row = 1, since no differences need to be ordered.   \n",
    "The probability that 2 integers can be in a row = 1, since 1 difference needs to be ordered.  \n",
    "The probability that 3 integers can be in a row = 1/2, since there are two differences, and therefore a 50% chance they are ordered from low to high.  \n",
    "The probability that 4 integers can be in a row = 1/6 since there are three differences, and therefore 6 possible orderings of differences.  \n",
    "\n",
    "We can see that this sum is  \n",
    "\n",
    "$1 + 1 + \\frac{1}{2} + \\frac{1}{6} + \\frac{1}{24} + ... + \\frac{1}{n!} + ...$,  \n",
    "\n",
    "which is exactly the infinite sequence that converges to $e$. This is stated more generally as  \n",
    "\n",
    "$e^x = \\sum_{k=0}^{\\infty}\\frac{x^k}{k!}$\n",
    "\n",
    "So, while this is an interesting property of primes, it would have been far *more* interesting if our above average *weren't* converging to $e$, because then there would be some property about the randomness of primes that would distinguish them from \"true\" randomness."
   ]
  },
  {
   "cell_type": "code",
   "execution_count": 3,
   "metadata": {},
   "outputs": [
    {
     "name": "stdout",
     "output_type": "stream",
     "text": [
      "e:\t2.718281828459045\n",
      "approx:\t2.7182818284590455\n"
     ]
    }
   ],
   "source": [
    "# verifying the above sum\n",
    "\n",
    "import math\n",
    "\n",
    "print(f'e:\\t{math.exp(1)}')\n",
    "print(f'approx:\\t{sum([1/math.factorial(k) for k in range(1000)])}')"
   ]
  },
  {
   "cell_type": "markdown",
   "metadata": {},
   "source": [
    "We found the following average number of primes per row when we checked positive integers up through 1,000:"
   ]
  },
  {
   "cell_type": "code",
   "execution_count": 4,
   "metadata": {},
   "outputs": [
    {
     "data": {
      "text/plain": [
       "2.6153846153846154"
      ]
     },
     "execution_count": 4,
     "metadata": {},
     "output_type": "execute_result"
    }
   ],
   "source": [
    "primeCount/rows"
   ]
  },
  {
   "cell_type": "code",
   "execution_count": null,
   "metadata": {},
   "outputs": [],
   "source": []
  }
 ],
 "metadata": {
  "kernelspec": {
   "display_name": "Python 3",
   "language": "python",
   "name": "python3"
  },
  "language_info": {
   "codemirror_mode": {
    "name": "ipython",
    "version": 3
   },
   "file_extension": ".py",
   "mimetype": "text/x-python",
   "name": "python",
   "nbconvert_exporter": "python",
   "pygments_lexer": "ipython3",
   "version": "3.8.8"
  }
 },
 "nbformat": 4,
 "nbformat_minor": 2
}
