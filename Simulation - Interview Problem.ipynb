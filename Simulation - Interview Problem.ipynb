{
 "cells": [
  {
   "cell_type": "markdown",
   "metadata": {},
   "source": [
    "# The Interview Problem\n",
    "**Alternate Names**  \n",
    "The Secretary Problem  \n",
    "The Fiancee Problem  \n",
    "The Marriage Problem  \n",
    "The Dowry Problem  \n",
    "The Fussy Suitor Problem  \n",
    "The Googol Game (original name by Martin Gardner)  \n",
    "The Best Choice Problem (typical mathematical name)  \n",
    "\n",
    "**Problem**  \n",
    "You are to interview $n$ candidates for a position.  \n",
    "After each interview, you must choose to hire or not hire the candidate.  \n",
    "You may not revisit old candidates.  \n",
    "Each candidate has a numerical measure of goodness that is disambiguous from all others (no two have the same value).  \n",
    "The goal is to select the best possible candidate.  \n",
    "\n",
    "**Algorithm**  \n",
    "To choose the best candidate, we will interview the first $r$ candidates, then select the next candidate better than the the best of the first $r$.  \n",
    "Using this algorithm, what is the probability that we choose the best candidate?"
   ]
  },
  {
   "cell_type": "code",
   "execution_count": 1,
   "metadata": {},
   "outputs": [],
   "source": [
    "from random import shuffle\n",
    "\n",
    "# this function interviews n candidates and chooses the next candidate better than the first r.\n",
    "# this function returns the value of the selected candidate (a 'success' is when it returns n)\n",
    "def interview(n, r):\n",
    "    candidates = [x for x in range(1, n+1)]\n",
    "    shuffle(candidates)\n",
    "    toBeat = max(candidates[:r])\n",
    "    for cand in candidates[r:]:\n",
    "        if cand > toBeat:\n",
    "            return cand\n",
    "    return candidates[-1]"
   ]
  },
  {
   "cell_type": "code",
   "execution_count": 2,
   "metadata": {},
   "outputs": [
    {
     "data": {
      "text/plain": [
       "(0.3781, 36)"
      ]
     },
     "execution_count": 2,
     "metadata": {},
     "output_type": "execute_result"
    }
   ],
   "source": [
    "n = 100\n",
    "trials = 10000\n",
    "percentages = []\n",
    "\n",
    "for r in range(1, n):\n",
    "    percent_best = sum([interview(n,r) == n for trial in range(trials)]) / trials\n",
    "    percentages.append((percent_best,r))\n",
    "best = max(percentages)\n",
    "best"
   ]
  },
  {
   "cell_type": "code",
   "execution_count": 3,
   "metadata": {},
   "outputs": [
    {
     "data": {
      "image/png": "[encoded data removed]",
      "text/plain": [
       "<Figure size 432x288 with 1 Axes>"
      ]
     },
     "metadata": {
      "needs_background": "light"
     },
     "output_type": "display_data"
    }
   ],
   "source": [
    "import matplotlib.pyplot as plt\n",
    "\n",
    "x = [p[1] for p in percentages]\n",
    "y = [p[0] for p in percentages]\n",
    "\n",
    "plt.plot(x, y, 'o')\n",
    "plt.show()"
   ]
  },
  {
   "cell_type": "markdown",
   "metadata": {},
   "source": [
    "It can be shown that the optimal value of $r$ is the integer nearest to $n/e$\n",
    "\n",
    "Using this optimal value of $r$, it can be shown that you'll have a probability of $1/e$ of selecting the optimal candidate.\n",
    "\n",
    "We can see that our experimental results from the variable *best* are close to these theoretical values."
   ]
  },
  {
   "cell_type": "code",
   "execution_count": 4,
   "metadata": {},
   "outputs": [
    {
     "data": {
      "text/plain": [
       "0.36787944117144233"
      ]
     },
     "execution_count": 4,
     "metadata": {},
     "output_type": "execute_result"
    }
   ],
   "source": [
    "from math import e\n",
    "\n",
    "# theoretical optimal probability\n",
    "1/e"
   ]
  },
  {
   "cell_type": "code",
   "execution_count": 7,
   "metadata": {},
   "outputs": [
    {
     "data": {
      "text/plain": [
       "36.787944117144235"
      ]
     },
     "execution_count": 7,
     "metadata": {},
     "output_type": "execute_result"
    }
   ],
   "source": [
    "# theoretical optimal value of r (number of candidates to view before selecting the next best)\n",
    "n/e"
   ]
  },
  {
   "cell_type": "code",
   "execution_count": 8,
   "metadata": {},
   "outputs": [
    {
     "data": {
      "text/plain": [
       "(0.3781, 36)"
      ]
     },
     "execution_count": 8,
     "metadata": {},
     "output_type": "execute_result"
    }
   ],
   "source": [
    "# our experimentally determined optimal probability and r value\n",
    "best"
   ]
  },
  {
   "cell_type": "code",
   "execution_count": null,
   "metadata": {},
   "outputs": [],
   "source": []
  }
 ],
 "metadata": {
  "kernelspec": {
   "display_name": "Python 3",
   "language": "python",
   "name": "python3"
  },
  "language_info": {
   "codemirror_mode": {
    "name": "ipython",
    "version": 3
   },
   "file_extension": ".py",
   "mimetype": "text/x-python",
   "name": "python",
   "nbconvert_exporter": "python",
   "pygments_lexer": "ipython3",
   "version": "3.8.8"
  },
  "varInspector": {
   "cols": {
    "lenName": 16,
    "lenType": 16,
    "lenVar": 40
   },
   "kernels_config": {
    "python": {
     "delete_cmd_postfix": "",
     "delete_cmd_prefix": "del ",
     "library": "var_list.py",
     "varRefreshCmd": "print(var_dic_list())"
    },
    "r": {
     "delete_cmd_postfix": ") ",
     "delete_cmd_prefix": "rm(",
     "library": "var_list.r",
     "varRefreshCmd": "cat(var_dic_list()) "
    }
   },
   "types_to_exclude": [
    "module",
    "function",
    "builtin_function_or_method",
    "instance",
    "_Feature"
   ],
   "window_display": true
  }
 },
 "nbformat": 4,
 "nbformat_minor": 2
}
